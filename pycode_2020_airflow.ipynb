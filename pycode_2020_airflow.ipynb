{
 "cells": [
  {
   "cell_type": "markdown",
   "metadata": {},
   "source": [
    "# Airflow (Linux only)"
   ]
  },
  {
   "cell_type": "markdown",
   "metadata": {},
   "source": [
    "### Install `apache-airflow` Python library:\n",
    "```\n",
    "$ sudo pip3 install apache-airflow==1.10.12\n",
    "```"
   ]
  },
  {
   "cell_type": "markdown",
   "metadata": {},
   "source": [
    "### Initialize the database:\n",
    "```\n",
    "$ airflow initdb\n",
    "```"
   ]
  },
  {
   "cell_type": "markdown",
   "metadata": {},
   "source": [
    "### Create `~/airflow/dags/example` folder:\n",
    "```\n",
    "$ mkdir -p ~/airflow/dags/example\n",
    "```"
   ]
  },
  {
   "cell_type": "markdown",
   "metadata": {},
   "source": [
    "### Copy `airflow_example.py` file to created `~/airflow/dags/example` folder:\n",
    "```\n",
    "$ cp airflow_example.py ~/airflow/dags/example\n",
    "```"
   ]
  },
  {
   "cell_type": "markdown",
   "metadata": {},
   "source": [
    "### Start Airflow web server:\n",
    "```\n",
    "$ airflow webserver\n",
    "```\n",
    "\n",
    "**Note:** Do not close terminal with Airflow web server."
   ]
  },
  {
   "cell_type": "markdown",
   "metadata": {},
   "source": [
    "### Open the second terminal. Start Airflow scheduler:\n",
    "```\n",
    "$ airflow scheduler\n",
    "```\n",
    "\n",
    "**Note:** Do not close terminals with Airflow scheduler and Airflow web server."
   ]
  },
  {
   "cell_type": "markdown",
   "metadata": {},
   "source": [
    "### Navigate to http://localhost:8080 and explore Airflow web interface."
   ]
  }
 ],
 "metadata": {
  "kernelspec": {
   "display_name": "Python 3",
   "language": "python",
   "name": "python3"
  },
  "language_info": {
   "codemirror_mode": {
    "name": "ipython",
    "version": 3
   },
   "file_extension": ".py",
   "mimetype": "text/x-python",
   "name": "python",
   "nbconvert_exporter": "python",
   "pygments_lexer": "ipython3",
   "version": "3.6.3"
  }
 },
 "nbformat": 4,
 "nbformat_minor": 2
}
