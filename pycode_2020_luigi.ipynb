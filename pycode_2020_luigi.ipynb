{
 "cells": [
  {
   "cell_type": "markdown",
   "metadata": {},
   "source": [
    "# Luigi"
   ]
  },
  {
   "cell_type": "markdown",
   "metadata": {},
   "source": [
    "### Install `luigi` Python library:\n",
    "```\n",
    "$ sudo pip3 install luigi\n",
    "```"
   ]
  },
  {
   "cell_type": "markdown",
   "metadata": {},
   "source": [
    "### Start central Luigi server:\n",
    "```\n",
    "$ luigid\n",
    "```\n",
    "\n",
    "**Note:** Do not close terminal with central Luigi server."
   ]
  },
  {
   "cell_type": "markdown",
   "metadata": {},
   "source": [
    "### Open the second terminal. Navigate to folder with `luigi_example.py` file. Execute `Task2`:\n",
    "```\n",
    "$ python3 -m luigi --module luigi_example Task2\n",
    "```\n",
    "\n",
    "or:\n",
    "```\n",
    "$ chmod 777 luigi_example.py\n",
    "$ ./luigi_example.py Task2\n",
    "```"
   ]
  },
  {
   "cell_type": "markdown",
   "metadata": {},
   "source": [
    "### Navigate to http://localhost:8082 and explore Lugi web interface."
   ]
  }
 ],
 "metadata": {
  "kernelspec": {
   "display_name": "Python 3",
   "language": "python",
   "name": "python3"
  },
  "language_info": {
   "codemirror_mode": {
    "name": "ipython",
    "version": 3
   },
   "file_extension": ".py",
   "mimetype": "text/x-python",
   "name": "python",
   "nbconvert_exporter": "python",
   "pygments_lexer": "ipython3",
   "version": "3.6.3"
  }
 },
 "nbformat": 4,
 "nbformat_minor": 2
}
